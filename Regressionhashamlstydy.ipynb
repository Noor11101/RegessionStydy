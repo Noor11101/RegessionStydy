{
 "cells": [
  {
   "cell_type": "code",
   "execution_count": 15,
   "id": "f6198f18-e727-4ce9-b841-f08c1252546d",
   "metadata": {},
   "outputs": [],
   "source": [
    "#import libraries\n",
    "import numpy as np\n",
    "import pandas as pd\n",
    "import matplotlib.pyplot as plt"
   ]
  },
  {
   "cell_type": "code",
   "execution_count": 16,
   "id": "a7c2b77f-0a19-4b2e-b5a5-67291710b79b",
   "metadata": {},
   "outputs": [],
   "source": [
    "#read data\n",
    "path = 'C:\\\\Users\\\\hp\\\\Desktop\\\\Machine learning\\\\data.txt'\n",
    "data = pd.read_csv(path, header=None, names=['Population', 'Profit'])"
   ]
  },
  {
   "cell_type": "code",
   "execution_count": null,
   "id": "819a5ee3-9c71-4245-b351-a4f677fc64c5",
   "metadata": {},
   "outputs": [],
   "source": [
    "#show data details\n",
    "# print('data = \\n' ,data.head(10) )"
   ]
  },
  {
   "cell_type": "code",
   "execution_count": null,
   "id": "b7d7f275-7e4a-4f0f-8c96-9921a3e56565",
   "metadata": {},
   "outputs": [],
   "source": [
    "# print('data.describe = \\n',data.describe())"
   ]
  },
  {
   "cell_type": "code",
   "execution_count": 17,
   "id": "33706763-92a6-424e-ae4a-da44f2c9b22b",
   "metadata": {},
   "outputs": [
    {
     "data": {
      "text/plain": [
       "<Axes: xlabel='Population', ylabel='Profit'>"
      ]
     },
     "execution_count": 17,
     "metadata": {},
     "output_type": "execute_result"
    },
    {
     "data": {
      "image/png": "[encoded data removed]",
      "text/plain": [
       "<Figure size 500x500 with 1 Axes>"
      ]
     },
     "metadata": {},
     "output_type": "display_data"
    }
   ],
   "source": [
    "# #draw data\n",
    "data.plot(kind='scatter', x='Population', y='Profit', figsize=(5,5))"
   ]
  },
  {
   "cell_type": "code",
   "execution_count": 18,
   "id": "b94fea69-40bb-4f0f-94ef-75a6cc2585ad",
   "metadata": {},
   "outputs": [],
   "source": [
    "\n",
    "# # adding a new column called ones before the data\n",
    "data.insert(0, 'Ones', 1)\n",
    "# print('new data = \\n' ,data.head(10) )"
   ]
  },
  {
   "cell_type": "code",
   "execution_count": 19,
   "id": "b197bd6d-4984-41d0-bbbb-6a851564e709",
   "metadata": {},
   "outputs": [],
   "source": [
    "# # separate X (training data) from y (target variable)\n",
    "cols = data.shape[1]\n",
    "X = data.iloc[:,0:cols-1]\n",
    "y = data.iloc[:,cols-1:cols]"
   ]
  },
  {
   "cell_type": "code",
   "execution_count": 20,
   "id": "a8a91785-8851-479f-a2c5-fc59d92b4ab3",
   "metadata": {},
   "outputs": [
    {
     "name": "stdout",
     "output_type": "stream",
     "text": [
      "X data = \n",
      "    Ones  Population\n",
      "0     1      6.1101\n",
      "1     1      5.5277\n",
      "2     1      8.5186\n",
      "3     1      7.0032\n",
      "4     1      5.8598\n",
      "5     1      8.3829\n",
      "6     1      7.4764\n",
      "7     1      8.5781\n",
      "8     1      6.4862\n",
      "9     1      5.0546\n",
      "y data = \n",
      "     Profit\n",
      "0  17.5920\n",
      "1   9.1302\n",
      "2  13.6620\n",
      "3  11.8540\n",
      "4   6.8233\n",
      "5  11.8860\n",
      "6   4.3483\n",
      "7  12.0000\n",
      "8   6.5987\n",
      "9   3.8166\n"
     ]
    }
   ],
   "source": [
    "print('X data = \\n' ,X.head(10) )\n",
    "print('y data = \\n' ,y.head(10) )"
   ]
  },
  {
   "cell_type": "code",
   "execution_count": 21,
   "id": "ddcc4d5f-b34a-4d4c-bbed-da52163e2011",
   "metadata": {},
   "outputs": [],
   "source": [
    "# # convert from data frames to numpy matrices\n",
    "X = np.matrix(X.values)\n",
    "y = np.matrix(y.values)\n",
    "theta = np.matrix(np.array([0,0]))"
   ]
  },
  {
   "cell_type": "code",
   "execution_count": 22,
   "id": "b5df8f37-a6ea-4159-b8b5-0ecb6208254f",
   "metadata": {},
   "outputs": [
    {
     "name": "stdout",
     "output_type": "stream",
     "text": [
      "X \n",
      " [[ 1.      6.1101]\n",
      " [ 1.      5.5277]\n",
      " [ 1.      8.5186]\n",
      " [ 1.      7.0032]\n",
      " [ 1.      5.8598]\n",
      " [ 1.      8.3829]\n",
      " [ 1.      7.4764]\n",
      " [ 1.      8.5781]\n",
      " [ 1.      6.4862]\n",
      " [ 1.      5.0546]\n",
      " [ 1.      5.7107]\n",
      " [ 1.     14.164 ]\n",
      " [ 1.      5.734 ]\n",
      " [ 1.      8.4084]\n",
      " [ 1.      5.6407]\n",
      " [ 1.      5.3794]\n",
      " [ 1.      6.3654]\n",
      " [ 1.      5.1301]\n",
      " [ 1.      6.4296]\n",
      " [ 1.      7.0708]\n",
      " [ 1.      6.1891]\n",
      " [ 1.     20.27  ]\n",
      " [ 1.      5.4901]\n",
      " [ 1.      6.3261]\n",
      " [ 1.      5.5649]\n",
      " [ 1.     18.945 ]\n",
      " [ 1.     12.828 ]\n",
      " [ 1.     10.957 ]\n",
      " [ 1.     13.176 ]\n",
      " [ 1.     22.203 ]\n",
      " [ 1.      5.2524]\n",
      " [ 1.      6.5894]\n",
      " [ 1.      9.2482]\n",
      " [ 1.      5.8918]\n",
      " [ 1.      8.2111]\n",
      " [ 1.      7.9334]\n",
      " [ 1.      8.0959]\n",
      " [ 1.      5.6063]\n",
      " [ 1.     12.836 ]\n",
      " [ 1.      6.3534]\n",
      " [ 1.      5.4069]\n",
      " [ 1.      6.8825]\n",
      " [ 1.     11.708 ]\n",
      " [ 1.      5.7737]\n",
      " [ 1.      7.8247]\n",
      " [ 1.      7.0931]\n",
      " [ 1.      5.0702]\n",
      " [ 1.      5.8014]\n",
      " [ 1.     11.7   ]\n",
      " [ 1.      5.5416]\n",
      " [ 1.      7.5402]\n",
      " [ 1.      5.3077]\n",
      " [ 1.      7.4239]\n",
      " [ 1.      7.6031]\n",
      " [ 1.      6.3328]\n",
      " [ 1.      6.3589]\n",
      " [ 1.      6.2742]\n",
      " [ 1.      5.6397]\n",
      " [ 1.      9.3102]\n",
      " [ 1.      9.4536]\n",
      " [ 1.      8.8254]\n",
      " [ 1.      5.1793]\n",
      " [ 1.     21.279 ]\n",
      " [ 1.     14.908 ]\n",
      " [ 1.     18.959 ]\n",
      " [ 1.      7.2182]\n",
      " [ 1.      8.2951]\n",
      " [ 1.     10.236 ]\n",
      " [ 1.      5.4994]\n",
      " [ 1.     20.341 ]\n",
      " [ 1.     10.136 ]\n",
      " [ 1.      7.3345]\n",
      " [ 1.      6.0062]\n",
      " [ 1.      7.2259]\n",
      " [ 1.      5.0269]\n",
      " [ 1.      6.5479]\n",
      " [ 1.      7.5386]\n",
      " [ 1.      5.0365]\n",
      " [ 1.     10.274 ]\n",
      " [ 1.      5.1077]\n",
      " [ 1.      5.7292]\n",
      " [ 1.      5.1884]\n",
      " [ 1.      6.3557]\n",
      " [ 1.      9.7687]\n",
      " [ 1.      6.5159]\n",
      " [ 1.      8.5172]\n",
      " [ 1.      9.1802]\n",
      " [ 1.      6.002 ]\n",
      " [ 1.      5.5204]\n",
      " [ 1.      5.0594]\n",
      " [ 1.      5.7077]\n",
      " [ 1.      7.6366]\n",
      " [ 1.      5.8707]\n",
      " [ 1.      5.3054]\n",
      " [ 1.      8.2934]\n",
      " [ 1.     13.394 ]\n",
      " [ 1.      5.4369]]\n",
      "X.shape =  (97, 2)\n",
      "theta \n",
      " [[0 0]]\n",
      "theta.shape =  (1, 2)\n",
      "y \n",
      " [[17.592  ]\n",
      " [ 9.1302 ]\n",
      " [13.662  ]\n",
      " [11.854  ]\n",
      " [ 6.8233 ]\n",
      " [11.886  ]\n",
      " [ 4.3483 ]\n",
      " [12.     ]\n",
      " [ 6.5987 ]\n",
      " [ 3.8166 ]\n",
      " [ 3.2522 ]\n",
      " [15.505  ]\n",
      " [ 3.1551 ]\n",
      " [ 7.2258 ]\n",
      " [ 0.71618]\n",
      " [ 3.5129 ]\n",
      " [ 5.3048 ]\n",
      " [ 0.56077]\n",
      " [ 3.6518 ]\n",
      " [ 5.3893 ]\n",
      " [ 3.1386 ]\n",
      " [21.767  ]\n",
      " [ 4.263  ]\n",
      " [ 5.1875 ]\n",
      " [ 3.0825 ]\n",
      " [22.638  ]\n",
      " [13.501  ]\n",
      " [ 7.0467 ]\n",
      " [14.692  ]\n",
      " [24.147  ]\n",
      " [-1.22   ]\n",
      " [ 5.9966 ]\n",
      " [12.134  ]\n",
      " [ 1.8495 ]\n",
      " [ 6.5426 ]\n",
      " [ 4.5623 ]\n",
      " [ 4.1164 ]\n",
      " [ 3.3928 ]\n",
      " [10.117  ]\n",
      " [ 5.4974 ]\n",
      " [ 0.55657]\n",
      " [ 3.9115 ]\n",
      " [ 5.3854 ]\n",
      " [ 2.4406 ]\n",
      " [ 6.7318 ]\n",
      " [ 1.0463 ]\n",
      " [ 5.1337 ]\n",
      " [ 1.844  ]\n",
      " [ 8.0043 ]\n",
      " [ 1.0179 ]\n",
      " [ 6.7504 ]\n",
      " [ 1.8396 ]\n",
      " [ 4.2885 ]\n",
      " [ 4.9981 ]\n",
      " [ 1.4233 ]\n",
      " [-1.4211 ]\n",
      " [ 2.4756 ]\n",
      " [ 4.6042 ]\n",
      " [ 3.9624 ]\n",
      " [ 5.4141 ]\n",
      " [ 5.1694 ]\n",
      " [-0.74279]\n",
      " [17.929  ]\n",
      " [12.054  ]\n",
      " [17.054  ]\n",
      " [ 4.8852 ]\n",
      " [ 5.7442 ]\n",
      " [ 7.7754 ]\n",
      " [ 1.0173 ]\n",
      " [20.992  ]\n",
      " [ 6.6799 ]\n",
      " [ 4.0259 ]\n",
      " [ 1.2784 ]\n",
      " [ 3.3411 ]\n",
      " [-2.6807 ]\n",
      " [ 0.29678]\n",
      " [ 3.8845 ]\n",
      " [ 5.7014 ]\n",
      " [ 6.7526 ]\n",
      " [ 2.0576 ]\n",
      " [ 0.47953]\n",
      " [ 0.20421]\n",
      " [ 0.67861]\n",
      " [ 7.5435 ]\n",
      " [ 5.3436 ]\n",
      " [ 4.2415 ]\n",
      " [ 6.7981 ]\n",
      " [ 0.92695]\n",
      " [ 0.152  ]\n",
      " [ 2.8214 ]\n",
      " [ 1.8451 ]\n",
      " [ 4.2959 ]\n",
      " [ 7.2029 ]\n",
      " [ 1.9869 ]\n",
      " [ 0.14454]\n",
      " [ 9.0551 ]\n",
      " [ 0.61705]]\n",
      "y.shape =  (97, 1)\n"
     ]
    }
   ],
   "source": [
    "print('X \\n',X)\n",
    "print('X.shape = ' , X.shape)\n",
    "print('theta \\n',theta)\n",
    "print('theta.shape = ' , theta.shape)\n",
    "print('y \\n',y)\n",
    "print('y.shape = ' , y.shape)"
   ]
  },
  {
   "cell_type": "code",
   "execution_count": 23,
   "id": "7f620206-7772-473f-8b8b-90a87658ac8a",
   "metadata": {},
   "outputs": [
    {
     "name": "stdout",
     "output_type": "stream",
     "text": [
      "computeCost(X, y, theta) =  32.072733877455676\n"
     ]
    }
   ],
   "source": [
    "\n",
    "# cost function\n",
    "def computeCost(X, y, theta):\n",
    "    z = np.power(((X * theta.T) - y), 2)\n",
    "# print('z \\n',z)\n",
    "# print('m ' ,len(X))\n",
    "    return np.sum(z) / (2 * len(X))\n",
    "print('computeCost(X, y, theta) = ' , computeCost(X, y, theta))"
   ]
  },
  {
   "cell_type": "code",
   "execution_count": 24,
   "id": "255028c4-db6a-4de2-ac1f-5d5453fb61b1",
   "metadata": {},
   "outputs": [],
   "source": [
    "# GD function\n",
    "def gradientDescent(X, y, theta, alpha, iters):\n",
    "    temp = np.matrix(np.zeros(theta.shape))\n",
    "    parameters = int(theta.ravel().shape[1])\n",
    "    cost = np.zeros(iters)\n",
    "    for i in range(iters):\n",
    "        error = (X * theta.T) - y\n",
    "        for j in range(parameters):\n",
    "                term = np.multiply(error, X[:,j])\n",
    "                temp[0,j] = theta[0,j] - ((alpha / len(X)) * np.sum(term))\n",
    "                theta = temp\n",
    "                cost[i] = computeCost(X, y, theta)\n",
    "    return theta, cost"
   ]
  },
  {
   "cell_type": "code",
   "execution_count": 25,
   "id": "8f599c15-d4ee-4bdf-a62d-0cc3c0c98255",
   "metadata": {},
   "outputs": [],
   "source": [
    "# initialize variables for learning rate and iterations\n",
    "alpha = 0.01\n",
    "iters = 1000"
   ]
  },
  {
   "cell_type": "code",
   "execution_count": 26,
   "id": "9308a572-8248-4bd3-ad57-f1517ef8ac44",
   "metadata": {},
   "outputs": [
    {
     "name": "stdout",
     "output_type": "stream",
     "text": [
      "g =  [[-3.24140214  1.1272942 ]]\n",
      "cost =  [6.73719046 5.93159357 5.90115471 5.89522859 5.89009494 5.88500416\n",
      " 5.87993248 5.87487909 5.86984391 5.86482687 5.85982789 5.85484692\n",
      " 5.84988389 5.84493874 5.8400114  5.83510181 5.8302099  5.82533562\n",
      " 5.82047889 5.81563965 5.81081784 5.8060134  5.80122627 5.79645638\n",
      " 5.79170367 5.78696808 5.78224955 5.77754801 5.77286341 5.76819568\n",
      " 5.76354477 5.75891061 5.75429313 5.7496923  5.74510803 5.74054027\n",
      " 5.73598897 5.73145406 5.72693549 5.72243319 5.71794711 5.71347718\n",
      " 5.70902336 5.70458558 5.70016379 5.69575792 5.69136792 5.68699373\n",
      " 5.6826353  5.67829257]\n",
      "computeCost =  4.515955503078914\n"
     ]
    }
   ],
   "source": [
    "# perform gradient descent to \"fit\" the model parameters\n",
    "g, cost = gradientDescent(X, y, theta, alpha, iters)\n",
    "print('g = ' , g)\n",
    "print('cost = ' , cost[0:50] )\n",
    "print('computeCost = ' , computeCost(X, y, g))"
   ]
  },
  {
   "cell_type": "code",
   "execution_count": 27,
   "id": "b35d5df8-e2ca-4097-9bf2-0eae14515d8c",
   "metadata": {},
   "outputs": [
    {
     "name": "stdout",
     "output_type": "stream",
     "text": [
      "x \n",
      " [ 5.0269      5.20039596  5.37389192  5.54738788  5.72088384  5.8943798\n",
      "  6.06787576  6.24137172  6.41486768  6.58836364  6.7618596   6.93535556\n",
      "  7.10885152  7.28234747  7.45584343  7.62933939  7.80283535  7.97633131\n",
      "  8.14982727  8.32332323  8.49681919  8.67031515  8.84381111  9.01730707\n",
      "  9.19080303  9.36429899  9.53779495  9.71129091  9.88478687 10.05828283\n",
      " 10.23177879 10.40527475 10.57877071 10.75226667 10.92576263 11.09925859\n",
      " 11.27275455 11.44625051 11.61974646 11.79324242 11.96673838 12.14023434\n",
      " 12.3137303  12.48722626 12.66072222 12.83421818 13.00771414 13.1812101\n",
      " 13.35470606 13.52820202 13.70169798 13.87519394 14.0486899  14.22218586\n",
      " 14.39568182 14.56917778 14.74267374 14.9161697  15.08966566 15.26316162\n",
      " 15.43665758 15.61015354 15.78364949 15.95714545 16.13064141 16.30413737\n",
      " 16.47763333 16.65112929 16.82462525 16.99812121 17.17161717 17.34511313\n",
      " 17.51860909 17.69210505 17.86560101 18.03909697 18.21259293 18.38608889\n",
      " 18.55958485 18.73308081 18.90657677 19.08007273 19.25356869 19.42706465\n",
      " 19.60056061 19.77405657 19.94755253 20.12104848 20.29454444 20.4680404\n",
      " 20.64153636 20.81503232 20.98852828 21.16202424 21.3355202  21.50901616\n",
      " 21.68251212 21.85600808 22.02950404 22.203     ]\n",
      "g \n",
      " [[-3.24140214  1.1272942 ]]\n",
      "f \n",
      " [ 2.42539308  2.62097407  2.81655506  3.01213605  3.20771704  3.40329803\n",
      "  3.59887902  3.79446001  3.990041    4.18562199  4.38120298  4.57678397\n",
      "  4.77236495  4.96794594  5.16352693  5.35910792  5.55468891  5.7502699\n",
      "  5.94585089  6.14143188  6.33701287  6.53259386  6.72817485  6.92375584\n",
      "  7.11933683  7.31491782  7.51049881  7.7060798   7.90166079  8.09724177\n",
      "  8.29282276  8.48840375  8.68398474  8.87956573  9.07514672  9.27072771\n",
      "  9.4663087   9.66188969  9.85747068 10.05305167 10.24863266 10.44421365\n",
      " 10.63979464 10.83537563 11.03095662 11.2265376  11.42211859 11.61769958\n",
      " 11.81328057 12.00886156 12.20444255 12.40002354 12.59560453 12.79118552\n",
      " 12.98676651 13.1823475  13.37792849 13.57350948 13.76909047 13.96467146\n",
      " 14.16025245 14.35583344 14.55141442 14.74699541 14.9425764  15.13815739\n",
      " 15.33373838 15.52931937 15.72490036 15.92048135 16.11606234 16.31164333\n",
      " 16.50722432 16.70280531 16.8983863  17.09396729 17.28954828 17.48512927\n",
      " 17.68071025 17.87629124 18.07187223 18.26745322 18.46303421 18.6586152\n",
      " 18.85419619 19.04977718 19.24535817 19.44093916 19.63652015 19.83210114\n",
      " 20.02768213 20.22326312 20.41884411 20.6144251  20.81000609 21.00558707\n",
      " 21.20116806 21.39674905 21.59233004 21.78791103]\n"
     ]
    }
   ],
   "source": [
    "\n",
    "# get best fit line\n",
    "x = np.linspace(data.Population.min(), data.Population.max(), 100)\n",
    "print('x \\n',x)\n",
    "print('g \\n',g)\n",
    "f = g[0, 0] + (g[0, 1] * x)\n",
    "print('f \\n',f)"
   ]
  },
  {
   "cell_type": "code",
   "execution_count": 28,
   "id": "f682bd41-0ccd-436a-a1f6-38caf6b841a5",
   "metadata": {},
   "outputs": [
    {
     "data": {
      "text/plain": [
       "Text(0.5, 1.0, 'Predicted Profit vs. Population Size')"
      ]
     },
     "execution_count": 28,
     "metadata": {},
     "output_type": "execute_result"
    },
    {
     "data": {
      "image/png": "[encoded data removed]",
      "text/plain": [
       "<Figure size 500x500 with 1 Axes>"
      ]
     },
     "metadata": {},
     "output_type": "display_data"
    }
   ],
   "source": [
    "# draw the line\n",
    "fig, ax = plt.subplots(figsize=(5,5))\n",
    "ax.plot(x, f, 'r', label='Prediction')\n",
    "ax.scatter(data.Population, data.Profit, label='Traning Data')\n",
    "ax.legend(loc=2)\n",
    "ax.set_xlabel('Population')\n",
    "ax.set_ylabel('Profit')\n",
    "ax.set_title('Predicted Profit vs. Population Size')"
   ]
  },
  {
   "cell_type": "code",
   "execution_count": 29,
   "id": "45334248-6130-4785-831a-acdda87be974",
   "metadata": {},
   "outputs": [
    {
     "data": {
      "text/plain": [
       "Text(0.5, 1.0, 'Error vs. Training Epoch')"
      ]
     },
     "execution_count": 29,
     "metadata": {},
     "output_type": "execute_result"
    },
    {
     "data": {
      "image/png": "[encoded data removed]",
      "text/plain": [
       "<Figure size 500x500 with 1 Axes>"
      ]
     },
     "metadata": {},
     "output_type": "display_data"
    }
   ],
   "source": [
    "# draw error graph\n",
    "fig, ax = plt.subplots(figsize=(5,5))\n",
    "ax.plot(np.arange(iters), cost, 'r')\n",
    "ax.set_xlabel('Iterations')\n",
    "ax.set_ylabel('Cost')\n",
    "ax.set_title('Error vs. Training Epoch')\n"
   ]
  }
 ],
 "metadata": {
  "kernelspec": {
   "display_name": "Python 3 (ipykernel)",
   "language": "python",
   "name": "python3"
  },
  "language_info": {
   "codemirror_mode": {
    "name": "ipython",
    "version": 3
   },
   "file_extension": ".py",
   "mimetype": "text/x-python",
   "name": "python",
   "nbconvert_exporter": "python",
   "pygments_lexer": "ipython3",
   "version": "3.11.4"
  }
 },
 "nbformat": 4,
 "nbformat_minor": 5
}
